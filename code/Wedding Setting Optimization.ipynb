{
 "cells": [
  {
   "cell_type": "markdown",
   "id": "bf722b24",
   "metadata": {},
   "source": [
    "# Wedding Seating Optimization"
   ]
  },
  {
   "cell_type": "markdown",
   "id": "6d1f5142",
   "metadata": {},
   "source": [
    "This work was conducted by Group G:\n",
    "\n",
    "- Daniel Caridade (20211588)\n",
    "- Gonçalo Teles (20211684)\n",
    "- Gonçalo Peres (20211625)\n",
    "- Guilherme Godinho (20211552)"
   ]
  },
  {
   "cell_type": "markdown",
   "id": "0ce0c68f",
   "metadata": {},
   "source": [
    "# 1. Library Importation"
   ]
  },
  {
   "cell_type": "markdown",
   "id": "bed8a594",
   "metadata": {},
   "source": [
    "__`Step 1`__ Import the required libraries."
   ]
  },
  {
   "cell_type": "code",
   "execution_count": 1,
   "id": "e4de2bb5",
   "metadata": {},
   "outputs": [],
   "source": [
    "import pandas as pd\n",
    "import random\n",
    "import numpy as np\n",
    "import copy\n",
    "import math"
   ]
  },
  {
   "cell_type": "markdown",
   "id": "94b312be",
   "metadata": {},
   "source": [
    "# 2. Data Integration"
   ]
  },
  {
   "cell_type": "markdown",
   "id": "e0b2e919",
   "metadata": {},
   "source": [
    "__`Step 2`__ Importing the dataset into the file."
   ]
  },
  {
   "cell_type": "code",
   "execution_count": 2,
   "id": "d6bd9f86",
   "metadata": {},
   "outputs": [
    {
     "data": {
      "text/html": [
       "<div>\n",
       "<style scoped>\n",
       "    .dataframe tbody tr th:only-of-type {\n",
       "        vertical-align: middle;\n",
       "    }\n",
       "\n",
       "    .dataframe tbody tr th {\n",
       "        vertical-align: top;\n",
       "    }\n",
       "\n",
       "    .dataframe thead th {\n",
       "        text-align: right;\n",
       "    }\n",
       "</style>\n",
       "<table border=\"1\" class=\"dataframe\">\n",
       "  <thead>\n",
       "    <tr style=\"text-align: right;\">\n",
       "      <th></th>\n",
       "      <th>1</th>\n",
       "      <th>2</th>\n",
       "      <th>3</th>\n",
       "      <th>4</th>\n",
       "      <th>5</th>\n",
       "      <th>6</th>\n",
       "      <th>7</th>\n",
       "      <th>8</th>\n",
       "      <th>9</th>\n",
       "      <th>10</th>\n",
       "      <th>...</th>\n",
       "      <th>55</th>\n",
       "      <th>56</th>\n",
       "      <th>57</th>\n",
       "      <th>58</th>\n",
       "      <th>59</th>\n",
       "      <th>60</th>\n",
       "      <th>61</th>\n",
       "      <th>62</th>\n",
       "      <th>63</th>\n",
       "      <th>64</th>\n",
       "    </tr>\n",
       "    <tr>\n",
       "      <th>idx</th>\n",
       "      <th></th>\n",
       "      <th></th>\n",
       "      <th></th>\n",
       "      <th></th>\n",
       "      <th></th>\n",
       "      <th></th>\n",
       "      <th></th>\n",
       "      <th></th>\n",
       "      <th></th>\n",
       "      <th></th>\n",
       "      <th></th>\n",
       "      <th></th>\n",
       "      <th></th>\n",
       "      <th></th>\n",
       "      <th></th>\n",
       "      <th></th>\n",
       "      <th></th>\n",
       "      <th></th>\n",
       "      <th></th>\n",
       "      <th></th>\n",
       "      <th></th>\n",
       "    </tr>\n",
       "  </thead>\n",
       "  <tbody>\n",
       "    <tr>\n",
       "      <th>1</th>\n",
       "      <td>0</td>\n",
       "      <td>5000</td>\n",
       "      <td>0</td>\n",
       "      <td>0</td>\n",
       "      <td>700</td>\n",
       "      <td>700</td>\n",
       "      <td>0</td>\n",
       "      <td>0</td>\n",
       "      <td>0</td>\n",
       "      <td>0</td>\n",
       "      <td>...</td>\n",
       "      <td>100</td>\n",
       "      <td>100</td>\n",
       "      <td>0</td>\n",
       "      <td>0</td>\n",
       "      <td>100</td>\n",
       "      <td>100</td>\n",
       "      <td>100</td>\n",
       "      <td>0</td>\n",
       "      <td>0</td>\n",
       "      <td>0</td>\n",
       "    </tr>\n",
       "    <tr>\n",
       "      <th>2</th>\n",
       "      <td>5000</td>\n",
       "      <td>0</td>\n",
       "      <td>700</td>\n",
       "      <td>700</td>\n",
       "      <td>0</td>\n",
       "      <td>0</td>\n",
       "      <td>300</td>\n",
       "      <td>300</td>\n",
       "      <td>500</td>\n",
       "      <td>500</td>\n",
       "      <td>...</td>\n",
       "      <td>100</td>\n",
       "      <td>100</td>\n",
       "      <td>0</td>\n",
       "      <td>100</td>\n",
       "      <td>0</td>\n",
       "      <td>0</td>\n",
       "      <td>0</td>\n",
       "      <td>0</td>\n",
       "      <td>0</td>\n",
       "      <td>0</td>\n",
       "    </tr>\n",
       "    <tr>\n",
       "      <th>3</th>\n",
       "      <td>0</td>\n",
       "      <td>700</td>\n",
       "      <td>0</td>\n",
       "      <td>2000</td>\n",
       "      <td>0</td>\n",
       "      <td>0</td>\n",
       "      <td>0</td>\n",
       "      <td>0</td>\n",
       "      <td>300</td>\n",
       "      <td>300</td>\n",
       "      <td>...</td>\n",
       "      <td>0</td>\n",
       "      <td>0</td>\n",
       "      <td>0</td>\n",
       "      <td>0</td>\n",
       "      <td>0</td>\n",
       "      <td>0</td>\n",
       "      <td>0</td>\n",
       "      <td>0</td>\n",
       "      <td>0</td>\n",
       "      <td>0</td>\n",
       "    </tr>\n",
       "    <tr>\n",
       "      <th>4</th>\n",
       "      <td>0</td>\n",
       "      <td>700</td>\n",
       "      <td>2000</td>\n",
       "      <td>0</td>\n",
       "      <td>0</td>\n",
       "      <td>0</td>\n",
       "      <td>900</td>\n",
       "      <td>400</td>\n",
       "      <td>300</td>\n",
       "      <td>300</td>\n",
       "      <td>...</td>\n",
       "      <td>0</td>\n",
       "      <td>0</td>\n",
       "      <td>0</td>\n",
       "      <td>0</td>\n",
       "      <td>0</td>\n",
       "      <td>0</td>\n",
       "      <td>0</td>\n",
       "      <td>0</td>\n",
       "      <td>0</td>\n",
       "      <td>0</td>\n",
       "    </tr>\n",
       "    <tr>\n",
       "      <th>5</th>\n",
       "      <td>700</td>\n",
       "      <td>0</td>\n",
       "      <td>0</td>\n",
       "      <td>0</td>\n",
       "      <td>0</td>\n",
       "      <td>0</td>\n",
       "      <td>0</td>\n",
       "      <td>0</td>\n",
       "      <td>0</td>\n",
       "      <td>0</td>\n",
       "      <td>...</td>\n",
       "      <td>0</td>\n",
       "      <td>0</td>\n",
       "      <td>0</td>\n",
       "      <td>0</td>\n",
       "      <td>0</td>\n",
       "      <td>0</td>\n",
       "      <td>0</td>\n",
       "      <td>0</td>\n",
       "      <td>0</td>\n",
       "      <td>0</td>\n",
       "    </tr>\n",
       "  </tbody>\n",
       "</table>\n",
       "<p>5 rows × 64 columns</p>\n",
       "</div>"
      ],
      "text/plain": [
       "       1     2     3     4    5    6    7    8    9    10  ...   55   56  57  \\\n",
       "idx                                                        ...                 \n",
       "1       0  5000     0     0  700  700    0    0    0    0  ...  100  100   0   \n",
       "2    5000     0   700   700    0    0  300  300  500  500  ...  100  100   0   \n",
       "3       0   700     0  2000    0    0    0    0  300  300  ...    0    0   0   \n",
       "4       0   700  2000     0    0    0  900  400  300  300  ...    0    0   0   \n",
       "5     700     0     0     0    0    0    0    0    0    0  ...    0    0   0   \n",
       "\n",
       "      58   59   60   61  62  63  64  \n",
       "idx                                  \n",
       "1      0  100  100  100   0   0   0  \n",
       "2    100    0    0    0   0   0   0  \n",
       "3      0    0    0    0   0   0   0  \n",
       "4      0    0    0    0   0   0   0  \n",
       "5      0    0    0    0   0   0   0  \n",
       "\n",
       "[5 rows x 64 columns]"
      ]
     },
     "execution_count": 2,
     "metadata": {},
     "output_type": "execute_result"
    }
   ],
   "source": [
    "from utils.parser import load_relationship_matrix\n",
    "\n",
    "# Load the data\n",
    "relationships = load_relationship_matrix()\n",
    "relationships.head()"
   ]
  },
  {
   "cell_type": "markdown",
   "id": "5d556f3d",
   "metadata": {},
   "source": [
    "# 3. Helper functions"
   ]
  },
  {
   "cell_type": "markdown",
   "id": "c356b0dd",
   "metadata": {},
   "source": [
    "__`Step 3`__"
   ]
  },
  {
   "cell_type": "code",
   "execution_count": 3,
   "id": "d60b3bfa",
   "metadata": {},
   "outputs": [],
   "source": [
    "from utils.WeddingSeatingHelper import WeddingSeatingHelper # adjust import path accordingly\n",
    "\n",
    "# Suppose relationships is loaded before, e.g. from your parser:\n",
    "helper = WeddingSeatingHelper(relationships)"
   ]
  },
  {
   "cell_type": "markdown",
   "id": "32bfe6b6",
   "metadata": {},
   "source": [
    "## Hill Climbing testing"
   ]
  },
  {
   "cell_type": "code",
   "execution_count": 5,
   "id": "b39d722a",
   "metadata": {},
   "outputs": [
    {
     "name": "stdout",
     "output_type": "stream",
     "text": [
      "Current fitness: 19900\n",
      "Current fitness: 24400\n",
      "Current fitness: 28700\n",
      "Current fitness: 32900\n",
      "Current fitness: 37000\n",
      "Current fitness: 40600\n",
      "Current fitness: 44000\n",
      "Current fitness: 47300\n",
      "Current fitness: 50300\n",
      "Current fitness: 53100\n",
      "Current fitness: 55800\n",
      "Current fitness: 58400\n",
      "Current fitness: 60800\n",
      "Current fitness: 62700\n",
      "Current fitness: 64300\n",
      "Current fitness: 65700\n",
      "Current fitness: 67700\n",
      "Current fitness: 68400\n",
      "Current fitness: 69000\n",
      "Current fitness: 69600\n",
      "Current fitness: 69800\n",
      "Current fitness: 69900\n",
      "Best fitness: 69900\n"
     ]
    }
   ],
   "source": [
    "from optimizers.HillClimbing import HillClimbingOptimizer\n",
    "\n",
    "helper = WeddingSeatingHelper(relationships)\n",
    "hc = HillClimbingOptimizer(helper)\n",
    "\n",
    "best_fit, best_sol = hc.run(verbose=True)\n",
    "print(\"Best fitness:\", best_fit)"
   ]
  },
  {
   "cell_type": "markdown",
   "id": "8d9b11ca",
   "metadata": {},
   "source": [
    "Testing for several iterations"
   ]
  },
  {
   "cell_type": "code",
   "execution_count": null,
   "id": "b94252a3",
   "metadata": {},
   "outputs": [],
   "source": [
    "results_hc = []\n",
    "\n",
    "for i in range(30):\n",
    "    hc = HillClimbingOptimizer(helper, seed=i)  # different seed for each run\n",
    "    best_fit, best_sol = hc.run()\n",
    "    results_hc.append(best_fit)\n",
    "    print(f\"Run {i+1}: Best fitness = {best_fit}\")\n",
    "\n",
    "print(f\"\\nAverage fitness: {sum(results_hc)/len(results_hc):.2f}\")\n",
    "print(f\"Best fitness: {max(results_hc)}\")\n",
    "print(f\"Worst fitness: {min(results_hc)}\")"
   ]
  },
  {
   "cell_type": "markdown",
   "id": "2aaaebce",
   "metadata": {},
   "source": [
    "## Simulated Annealing in classes "
   ]
  },
  {
   "cell_type": "code",
   "execution_count": 7,
   "id": "2a3573ef",
   "metadata": {},
   "outputs": [
    {
     "name": "stdout",
     "output_type": "stream",
     "text": [
      "Current fitness: 16300\n",
      "Current fitness: 21300\n",
      "Current fitness: 26300\n",
      "Current fitness: 30700\n",
      "Current fitness: 35100\n",
      "Current fitness: 39200\n",
      "Current fitness: 42500\n",
      "Current fitness: 46000\n",
      "Current fitness: 49000\n",
      "Current fitness: 51800\n",
      "Current fitness: 54700\n",
      "Current fitness: 57400\n",
      "Current fitness: 59800\n",
      "Current fitness: 62400\n",
      "Current fitness: 64500\n",
      "Current fitness: 66600\n",
      "Current fitness: 68600\n",
      "Current fitness: 70600\n",
      "Current fitness: 71700\n",
      "Current fitness: 74200\n",
      "Current fitness: 75700\n",
      "Current fitness: 76000\n",
      "Current fitness: 76100\n",
      "Current fitness: 76400\n",
      "Current fitness: 76500\n",
      "Current fitness: 76500\n",
      "Current fitness: 76500\n",
      "Current fitness: 76500\n",
      "Current fitness: 76500\n",
      "Best fitness: 76500\n"
     ]
    }
   ],
   "source": [
    "from optimizers.SimulatedAnnealing import SimulatedAnnealingOptimizer\n",
    "\n",
    "# Run Simulated Annealing\n",
    "sa = SimulatedAnnealingOptimizer(helper)\n",
    "best_fit, best_sol = sa.run(verbose=True)\n",
    "print(\"Best fitness:\", best_fit)"
   ]
  },
  {
   "cell_type": "markdown",
   "id": "f85721e1",
   "metadata": {},
   "source": [
    "Testing for several iterations"
   ]
  },
  {
   "cell_type": "code",
   "execution_count": null,
   "id": "12a00a7b",
   "metadata": {},
   "outputs": [],
   "source": [
    "results_sa = []\n",
    "\n",
    "for i in range(30):\n",
    "    sa = SimulatedAnnealingOptimizer(helper, seed=i) # different seed for each run\n",
    "    best_fit, best_sol = sa.run()\n",
    "    results_sa.append(best_fit)\n",
    "    print(f\"Run {i+1}: Best fitness = {best_fit}\")\n",
    "\n",
    "# Summarize results\n",
    "print(f\"\\nAverage fitness over 30 runs: {sum(results_sa)/len(results_sa):.2f}\")\n",
    "print(f\"Best fitness found: {max(results_sa)}\")\n",
    "print(f\"Worst fitness found: {min(results_sa)}\")"
   ]
  },
  {
   "cell_type": "markdown",
   "id": "6443c800",
   "metadata": {},
   "source": [
    "Hyperparameter Tuning"
   ]
  },
  {
   "cell_type": "code",
   "execution_count": null,
   "id": "67e46ff9",
   "metadata": {},
   "outputs": [],
   "source": [
    "import itertools\n",
    "import numpy as np\n",
    "\n",
    "# Define ranges of parameters to test\n",
    "L_options = [100, 200, 500]\n",
    "k_options = [1.05, 1.1, 1.2]\n",
    "c_options = [1_000_000, 5_000_000]\n",
    "stop_options = [3, 5, 10]\n",
    "\n",
    "# Number of runs per config to average out randomness\n",
    "runs_per_config = 5\n",
    "\n",
    "# Store results for each config\n",
    "tuning_results = []\n",
    "\n",
    "experiment_id = 1\n",
    "\n",
    "for L, k, c, stop in itertools.product(L_options, k_options, c_options, stop_options):\n",
    "    fitnesses = []\n",
    "    print(f\"\\n=== Experiment {experiment_id} ===\")\n",
    "    print(f\"L={L}, k={k}, c={c}, stop={stop}\")\n",
    "\n",
    "    for run in range(runs_per_config):\n",
    "        optimizer = SimulatedAnnealingOptimizer(\n",
    "            helper=helper,  # replace with your WeddingSeatingHelper instance\n",
    "            L=L,\n",
    "            k=k,\n",
    "            c=c,\n",
    "            stop=stop,\n",
    "            seed=42 + run  # different seed per run for diversity\n",
    "        )\n",
    "        best_fitness, best_solution = optimizer.run(verbose=False)\n",
    "        fitnesses.append(best_fitness)\n",
    "        print(f\" Run {run+1}: fitness = {best_fitness}\")\n",
    "\n",
    "    avg_fitness = np.mean(fitnesses)\n",
    "    print(f\" Average fitness over {runs_per_config} runs: {avg_fitness:.2f}\")\n",
    "\n",
    "    tuning_results.append({\n",
    "        \"experiment\": experiment_id,\n",
    "        \"L\": L,\n",
    "        \"k\": k,\n",
    "        \"c\": c,\n",
    "        \"stop\": stop,\n",
    "        \"fitnesses\": fitnesses,\n",
    "        \"avg_fitness\": avg_fitness\n",
    "    })\n",
    "\n",
    "    experiment_id += 1\n",
    "\n",
    "# Find best config by average fitness\n",
    "best_exp = max(tuning_results, key=lambda x: x[\"avg_fitness\"])\n",
    "\n",
    "print(\"\\n=== Best Configuration ===\")\n",
    "print(f\"Experiment {best_exp['experiment']}:\")\n",
    "print(f\"L={best_exp['L']}, k={best_exp['k']}, c={best_exp['c']}, stop={best_exp['stop']}\")\n",
    "print(f\"Average fitness: {best_exp['avg_fitness']:.2f}\")"
   ]
  },
  {
   "cell_type": "markdown",
   "id": "8ce9ed43",
   "metadata": {},
   "source": [
    "## Genetic Algorithms"
   ]
  },
  {
   "cell_type": "code",
   "execution_count": null,
   "id": "7951e7dd",
   "metadata": {},
   "outputs": [
    {
     "name": "stdout",
     "output_type": "stream",
     "text": [
      "\n",
      "=== Experiment 1 ===\n",
      "Selection: battle, Elitism: True, Crossover: single table swap\n",
      "Mutation config - Swap: True, Table Flip: False, Relationship Augmenter: False\n"
     ]
    },
    {
     "ename": "TypeError",
     "evalue": "selection() missing 1 required positional argument: 'helper'",
     "output_type": "error",
     "traceback": [
      "\u001b[1;31m---------------------------------------------------------------------------\u001b[0m",
      "\u001b[1;31mTypeError\u001b[0m                                 Traceback (most recent call last)",
      "Cell \u001b[1;32mIn[9], line 47\u001b[0m\n\u001b[0;32m     35\u001b[0m \u001b[38;5;66;03m# Run GA with helper instance\u001b[39;00m\n\u001b[0;32m     36\u001b[0m ga \u001b[38;5;241m=\u001b[39m GeneticAlgorithm(\n\u001b[0;32m     37\u001b[0m     helper\u001b[38;5;241m=\u001b[39mhelper,\n\u001b[0;32m     38\u001b[0m     pop_size\u001b[38;5;241m=\u001b[39m\u001b[38;5;241m50\u001b[39m,\n\u001b[1;32m   (...)\u001b[0m\n\u001b[0;32m     45\u001b[0m     relationship_augmenter\u001b[38;5;241m=\u001b[39mrelationship_augmenter,\n\u001b[0;32m     46\u001b[0m )\n\u001b[1;32m---> 47\u001b[0m best_fitness, best_solution \u001b[38;5;241m=\u001b[39m \u001b[43mga\u001b[49m\u001b[38;5;241;43m.\u001b[39;49m\u001b[43moptimize\u001b[49m\u001b[43m(\u001b[49m\u001b[43mverbose\u001b[49m\u001b[38;5;241;43m=\u001b[39;49m\u001b[38;5;28;43;01mFalse\u001b[39;49;00m\u001b[43m)\u001b[49m\n\u001b[0;32m     49\u001b[0m \u001b[38;5;28mprint\u001b[39m(\u001b[38;5;124mf\u001b[39m\u001b[38;5;124m\"\u001b[39m\u001b[38;5;124mBest Fitness: \u001b[39m\u001b[38;5;132;01m{\u001b[39;00mbest_fitness\u001b[38;5;132;01m}\u001b[39;00m\u001b[38;5;124m\"\u001b[39m)\n\u001b[0;32m     51\u001b[0m \u001b[38;5;66;03m# Save result\u001b[39;00m\n",
      "File \u001b[1;32mc:\\Users\\danie\\Downloads\\NOVA IMS\\Masters - Data Science and Advanced Analytics\\1st year\\2nd semester\\Computational Intelligence for Optimization\\CIFO-Group-G\\code\\optimizers\\genetic_algorithms\\genetic_algorithm.py:54\u001b[0m, in \u001b[0;36mGeneticAlgorithm.optimize\u001b[1;34m(self, verbose)\u001b[0m\n\u001b[0;32m     51\u001b[0m     \u001b[38;5;28mprint\u001b[39m(\u001b[38;5;124mf\u001b[39m\u001b[38;5;124m\"\u001b[39m\u001b[38;5;124mGeneration \u001b[39m\u001b[38;5;132;01m{\u001b[39;00mgen\u001b[38;5;132;01m}\u001b[39;00m\u001b[38;5;124m\"\u001b[39m)\n\u001b[0;32m     53\u001b[0m \u001b[38;5;66;03m# Selection\u001b[39;00m\n\u001b[1;32m---> 54\u001b[0m selected_population \u001b[38;5;241m=\u001b[39m \u001b[43mselection\u001b[49m\u001b[43m(\u001b[49m\n\u001b[0;32m     55\u001b[0m \u001b[43m    \u001b[49m\u001b[43mpopulation\u001b[49m\u001b[43m,\u001b[49m\n\u001b[0;32m     56\u001b[0m \u001b[43m    \u001b[49m\u001b[38;5;28;43mself\u001b[39;49m\u001b[38;5;241;43m.\u001b[39;49m\u001b[43mpop_size\u001b[49m\u001b[43m,\u001b[49m\n\u001b[0;32m     57\u001b[0m \u001b[43m    \u001b[49m\u001b[43mselection\u001b[49m\u001b[38;5;241;43m=\u001b[39;49m\u001b[38;5;28;43mself\u001b[39;49m\u001b[38;5;241;43m.\u001b[39;49m\u001b[43mselection_method\u001b[49m\u001b[43m,\u001b[49m\n\u001b[0;32m     58\u001b[0m \u001b[43m    \u001b[49m\u001b[43melitism\u001b[49m\u001b[38;5;241;43m=\u001b[39;49m\u001b[38;5;28;43mself\u001b[39;49m\u001b[38;5;241;43m.\u001b[39;49m\u001b[43melitism\u001b[49m\u001b[43m,\u001b[49m\n\u001b[0;32m     59\u001b[0m \u001b[43m    \u001b[49m\u001b[43mn_elite\u001b[49m\u001b[38;5;241;43m=\u001b[39;49m\u001b[38;5;28;43mself\u001b[39;49m\u001b[38;5;241;43m.\u001b[39;49m\u001b[43mn_elite\u001b[49m\u001b[43m,\u001b[49m\n\u001b[0;32m     60\u001b[0m \u001b[43m    \u001b[49m\u001b[43mn_battles\u001b[49m\u001b[38;5;241;43m=\u001b[39;49m\u001b[38;5;28;43mself\u001b[39;49m\u001b[38;5;241;43m.\u001b[39;49m\u001b[43mn_battles\u001b[49m\u001b[43m,\u001b[49m\n\u001b[0;32m     61\u001b[0m \u001b[43m    \u001b[49m\u001b[43mp_pity\u001b[49m\u001b[38;5;241;43m=\u001b[39;49m\u001b[38;5;28;43mself\u001b[39;49m\u001b[38;5;241;43m.\u001b[39;49m\u001b[43mp_pity\u001b[49m\u001b[43m,\u001b[49m\n\u001b[0;32m     62\u001b[0m \u001b[43m\u001b[49m\u001b[43m)\u001b[49m\n\u001b[0;32m     64\u001b[0m \u001b[38;5;66;03m# Crossover & Mutation\u001b[39;00m\n\u001b[0;32m     65\u001b[0m \u001b[38;5;28;01mfor\u001b[39;00m i \u001b[38;5;129;01min\u001b[39;00m \u001b[38;5;28mrange\u001b[39m(\u001b[38;5;28mself\u001b[39m\u001b[38;5;241m.\u001b[39mpop_size \u001b[38;5;241m/\u001b[39m\u001b[38;5;241m/\u001b[39m \u001b[38;5;241m2\u001b[39m):\n",
      "\u001b[1;31mTypeError\u001b[0m: selection() missing 1 required positional argument: 'helper'"
     ]
    }
   ],
   "source": [
    "import numpy as np\n",
    "import random\n",
    "import copy\n",
    "\n",
    "from code.genetic_algorithms.helper import WeddingSeatingHelper\n",
    "from code.genetic_algorithms.selection import selection\n",
    "from code.genetic_algorithms.mutation import mutation\n",
    "from code.genetic_algorithms.crossover import crossover\n",
    "from code.genetic_algorithms.genetic_algorithm import GeneticAlgorithm\n",
    "\n",
    "# Create dummy symmetric relationship matrix (65x65)\n",
    "relationships_matrix = np.random.uniform(-1, 1, (65, 65))\n",
    "for i in range(65):\n",
    "    relationships_matrix[i][i] = 0\n",
    "    for j in range(i+1, 65):\n",
    "        relationships_matrix[j][i] = relationships_matrix[i][j]\n",
    "\n",
    "helper = WeddingSeatingHelper(relationships_matrix)\n",
    "\n",
    "crossover_options = [\"single table swap\", \"table by table\"]\n",
    "selection_options = [\"battle\", \"double_roullette\"]\n",
    "mutation_flags = [\n",
    "    (True, False, False),\n",
    "    (False, True, False),\n",
    "    (False, False, True)\n",
    "]\n",
    "\n",
    "for crossover_type in crossover_options:\n",
    "    for selection_type in selection_options:\n",
    "        for swap, table_flip, relationship_augmenter in mutation_flags:\n",
    "\n",
    "            print(f\"\\nTesting with crossover={crossover_type}, selection={selection_type}, \"\n",
    "                  f\"mutations=(swap={swap}, table_flip={table_flip}, rel_aug={relationship_augmenter})\")\n",
    "\n",
    "            # Simple crossover wrapper inline\n",
    "            def crossover_wrapper(ind1, ind2):\n",
    "                return crossover(ind1, ind2, crossover=crossover_type)\n",
    "\n",
    "            ga = GeneticAlgorithm(\n",
    "                helper=helper,\n",
    "                pop_size=20,\n",
    "                num_gen=5,\n",
    "                p_xo=0.2,\n",
    "                p_m=0.6,\n",
    "                selection_method=selection_type,\n",
    "                elitism=True,\n",
    "                n_elite=2,\n",
    "                n_battles=3,\n",
    "                p_pity=0.001,\n",
    "                swap=swap,\n",
    "                table_flip=table_flip,\n",
    "                relationship_augmenter=relationship_augmenter,\n",
    "                selection_func=selection,\n",
    "                crossover_func=crossover_wrapper,\n",
    "                mutation_func=mutation\n",
    "            )\n",
    "\n",
    "            best_fitness, best_solution = ga.run()\n",
    "\n",
    "            print(f\"Best fitness: {best_fitness}\")\n",
    "            print(f\"First table in solution: {best_solution[0]}\")"
   ]
  },
  {
   "cell_type": "code",
   "execution_count": null,
   "id": "a993171d",
   "metadata": {},
   "outputs": [],
   "source": [
    "from optimizers.genetic_algorithm.mutation import mutation\n",
    "\n",
    "# Create a sample individual: 8 tables with 8 guests each\n",
    "sample_individual = [list(range(i*8 + 1, i*8 + 9)) for i in range(8)]\n",
    "\n",
    "# Apply mutation\n",
    "mutated = mutation(sample_individual.copy(), swap=True, table_flip=False, relationship_augmenter=False)\n",
    "display(mutated)"
   ]
  },
  {
   "cell_type": "code",
   "execution_count": null,
   "id": "33b53aa2",
   "metadata": {},
   "outputs": [],
   "source": [
    "# Future code for crossover\n"
   ]
  },
  {
   "cell_type": "code",
   "execution_count": null,
   "id": "892aa0e6",
   "metadata": {},
   "outputs": [],
   "source": [
    "from optimizers.genetic_algorithm.genetic_algorithm import GeneticAlgorithm\n",
    "\n",
    "ga = GeneticAlgorithm(pop_size=50, num_gen=20, selection_method=\"battle\", elitism=True)\n",
    "best_score, best_solution = ga.optimize()"
   ]
  },
  {
   "cell_type": "markdown",
   "id": "839fd25f",
   "metadata": {},
   "source": [
    "Testing for several times"
   ]
  },
  {
   "cell_type": "code",
   "execution_count": null,
   "id": "e516b043",
   "metadata": {},
   "outputs": [],
   "source": [
    "results_ga = []\n",
    "\n",
    "for i in range(30):\n",
    "    random.seed(i)\n",
    "    np.random.seed(i)\n",
    "    \n",
    "    ga = GeneticAlgorithm(pop_size=50, num_gen=20, selection_method=\"battle\", elitism=True)\n",
    "    best_fit, best_sol = ga.optimize(verbose=False)  # disable verbose logging\n",
    "    \n",
    "    results_ga.append(best_fit)\n",
    "    print(f\"GA Run {i+1}: Best fitness = {best_fit:.2f}\")\n",
    "\n",
    "# Summarize results\n",
    "print(f\"\\nGA Average fitness over 30 runs: {np.mean(results_ga):.2f}\")\n",
    "print(f\"GA Best fitness found: {np.max(results_ga):.2f}\")\n",
    "print(f\"GA Worst fitness found: {np.min(results_ga):.2f}\")"
   ]
  }
 ],
 "metadata": {
  "kernelspec": {
   "display_name": "CIFO",
   "language": "python",
   "name": "python3"
  },
  "language_info": {
   "codemirror_mode": {
    "name": "ipython",
    "version": 3
   },
   "file_extension": ".py",
   "mimetype": "text/x-python",
   "name": "python",
   "nbconvert_exporter": "python",
   "pygments_lexer": "ipython3",
   "version": "3.11.11"
  }
 },
 "nbformat": 4,
 "nbformat_minor": 5
}
