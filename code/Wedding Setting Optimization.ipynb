{
 "cells": [
  {
   "cell_type": "markdown",
   "id": "bf722b24",
   "metadata": {},
   "source": [
    "# Wedding Seating Optimization"
   ]
  },
  {
   "cell_type": "markdown",
   "id": "6d1f5142",
   "metadata": {},
   "source": [
    "This work was conducted by Group G:\n",
    "\n",
    "- Daniel Caridade (20211588)\n",
    "- Gonçalo Teles (20211684)\n",
    "- Gonçalo Peres (20211625)\n",
    "- Guilherme Godinho (20211552)"
   ]
  },
  {
   "cell_type": "markdown",
   "id": "0ce0c68f",
   "metadata": {},
   "source": [
    "# 1. Library Importation"
   ]
  },
  {
   "cell_type": "markdown",
   "id": "bed8a594",
   "metadata": {},
   "source": [
    "__`Step 1`__ Import the required libraries."
   ]
  },
  {
   "cell_type": "code",
   "execution_count": null,
   "id": "e4de2bb5",
   "metadata": {},
   "outputs": [],
   "source": [
    "import pandas as pd\n",
    "import random\n",
    "import numpy as np\n",
    "import copy\n",
    "import math"
   ]
  },
  {
   "cell_type": "markdown",
   "id": "94b312be",
   "metadata": {},
   "source": [
    "# 2. Data Integration"
   ]
  },
  {
   "cell_type": "markdown",
   "id": "e0b2e919",
   "metadata": {},
   "source": [
    "__`Step 2`__ Importing the dataset into the file."
   ]
  },
  {
   "cell_type": "code",
   "execution_count": null,
   "id": "d6bd9f86",
   "metadata": {},
   "outputs": [
    {
     "name": "stdout",
     "output_type": "stream",
     "text": [
      "       1     2     3     4    5    6    7    8    9    10  ...   55   56  57  \\\n",
      "idx                                                        ...                 \n",
      "1       0  5000     0     0  700  700    0    0    0    0  ...  100  100   0   \n",
      "2    5000     0   700   700    0    0  300  300  500  500  ...  100  100   0   \n",
      "3       0   700     0  2000    0    0    0    0  300  300  ...    0    0   0   \n",
      "4       0   700  2000     0    0    0  900  400  300  300  ...    0    0   0   \n",
      "5     700     0     0     0    0    0    0    0    0    0  ...    0    0   0   \n",
      "\n",
      "      58   59   60   61  62  63  64  \n",
      "idx                                  \n",
      "1      0  100  100  100   0   0   0  \n",
      "2    100    0    0    0   0   0   0  \n",
      "3      0    0    0    0   0   0   0  \n",
      "4      0    0    0    0   0   0   0  \n",
      "5      0    0    0    0   0   0   0  \n",
      "\n",
      "[5 rows x 64 columns]\n"
     ]
    }
   ],
   "source": [
    "from utils.parser import load_relationship_matrix\n",
    "\n",
    "# Load the data\n",
    "relationships = load_relationship_matrix()\n",
    "print(relationships.head())"
   ]
  },
  {
   "cell_type": "markdown",
   "id": "5d556f3d",
   "metadata": {},
   "source": [
    "# 3. Helper functions"
   ]
  },
  {
   "cell_type": "markdown",
   "id": "c356b0dd",
   "metadata": {},
   "source": [
    "__`Step 3`__"
   ]
  },
  {
   "cell_type": "code",
   "execution_count": null,
   "id": "d60b3bfa",
   "metadata": {},
   "outputs": [],
   "source": [
    "from utils.WeddingSeatingHelper import WeddingSeatingHelper # adjust import path accordingly\n",
    "\n",
    "# Suppose relationships is loaded before, e.g. from your parser:\n",
    "helper = WeddingSeatingHelper(relationships)\n",
    "\n",
    "solution = helper.generate_solution()\n",
    "fitness_score = helper.fitness(solution)\n",
    "neighbors = helper.get_neighbours(solution)"
   ]
  },
  {
   "cell_type": "markdown",
   "id": "32bfe6b6",
   "metadata": {},
   "source": [
    "## Class for HillCLlimbing and testing"
   ]
  },
  {
   "cell_type": "code",
   "execution_count": 18,
   "id": "2af9effe",
   "metadata": {},
   "outputs": [],
   "source": [
    "class HillClimbingOptimizer:\n",
    "    import numpy as np\n",
    "    def __init__(self, helper):\n",
    "        \"\"\"\n",
    "        :param helper: An instance of WeddingSeatingHelper or similar class providing necessary methods\n",
    "        \"\"\"\n",
    "        self.helper = helper\n",
    "\n",
    "    def run(self, verbose=False):\n",
    "        \"\"\"\n",
    "        Run the hill climbing optimization.\n",
    "        \n",
    "        :param verbose: If True, prints fitness progress.\n",
    "        :return: tuple(best_fitness, best_solution)\n",
    "        \"\"\"\n",
    "        current_sol = self.helper.generate_solution()\n",
    "        neighbours = self.helper.get_neighbours(current_sol)\n",
    "        neighbour_best_fit = max([self.helper.fitness(neighbour) for neighbour in neighbours])\n",
    "\n",
    "        while self.helper.fitness(current_sol) < neighbour_best_fit:\n",
    "            current_sol = neighbours[np.argmax([self.helper.fitness(neighbour) for neighbour in neighbours])]\n",
    "            neighbours = self.helper.get_neighbours(current_sol)\n",
    "            neighbour_best_fit = max([self.helper.fitness(neighbour) for neighbour in neighbours])\n",
    "\n",
    "            if verbose:\n",
    "                print(f\"Current fitness: {self.helper.fitness(current_sol)}\")\n",
    "\n",
    "        return self.helper.fitness(current_sol), current_sol"
   ]
  },
  {
   "cell_type": "code",
   "execution_count": null,
   "id": "b39d722a",
   "metadata": {},
   "outputs": [
    {
     "name": "stdout",
     "output_type": "stream",
     "text": [
      "Current fitness: 19900\n",
      "Current fitness: 25100\n",
      "Current fitness: 30800\n",
      "Current fitness: 34900\n",
      "Current fitness: 38900\n",
      "Current fitness: 42200\n",
      "Current fitness: 45900\n",
      "Current fitness: 49900\n",
      "Current fitness: 52600\n",
      "Current fitness: 55000\n",
      "Current fitness: 57200\n",
      "Current fitness: 59500\n",
      "Current fitness: 61700\n",
      "Current fitness: 63700\n",
      "Current fitness: 65600\n",
      "Current fitness: 67200\n",
      "Current fitness: 68700\n",
      "Current fitness: 70300\n",
      "Current fitness: 72200\n",
      "Current fitness: 73900\n",
      "Current fitness: 75000\n",
      "Current fitness: 77000\n",
      "Current fitness: 77400\n",
      "Current fitness: 77600\n",
      "Current fitness: 77700\n",
      "Best fitness: 77700\n"
     ]
    }
   ],
   "source": [
    "from optimizers.HillClimbing import HillClimbingOptimizer\n",
    "\n",
    "helper = WeddingSeatingHelper(relationships)\n",
    "hc = HillClimbingOptimizer(helper)\n",
    "\n",
    "best_fit, best_sol = hc.run(verbose=True)\n",
    "print(\"Best fitness:\", best_fit)"
   ]
  },
  {
   "cell_type": "code",
   "execution_count": null,
   "id": "b94252a3",
   "metadata": {},
   "outputs": [],
   "source": [
    "results_hc = []\n",
    "\n",
    "for i in range(30):\n",
    "    best_fit, best_sol = hc.run()\n",
    "    results_hc.append(best_fit)\n",
    "    print(f\"Run {i+1}: Best fitness = {best_fit}\")\n",
    "\n",
    "# Optionally, summarize results_hc\n",
    "print(f\"\\nAverage fitness over 30 runs: {sum(results_hc)/len(results_hc):.2f}\")\n",
    "print(f\"Best fitness found: {max(results_hc)}\")\n",
    "print(f\"Worst fitness found: {min(results_hc)}\")"
   ]
  },
  {
   "cell_type": "markdown",
   "id": "2aaaebce",
   "metadata": {},
   "source": [
    "## Simulated Annealing in classes "
   ]
  },
  {
   "cell_type": "code",
   "execution_count": 20,
   "id": "3f26cbf2",
   "metadata": {},
   "outputs": [],
   "source": [
    "import numpy as np\n",
    "import random\n",
    "import math\n",
    "\n",
    "class SimulatedAnnealingOptimizer:\n",
    "    def __init__(self, helper, L=200, k=1.1, c=1000000, stop=5, seed=42):\n",
    "        \"\"\"\n",
    "        :param helper: An instance of WeddingSeatingHelper\n",
    "        :param L: Number of temperature iterations\n",
    "        :param k: Cooling rate divisor\n",
    "        :param c: Initial temperature\n",
    "        :param stop: Early stop count for no improvement\n",
    "        :param seed: Random seed for reproducibility\n",
    "        \"\"\"\n",
    "        self.helper = helper\n",
    "        self.L = L\n",
    "        self.k = k\n",
    "        self.c = c\n",
    "        self.stop = stop\n",
    "        random.seed(seed)\n",
    "        np.random.seed(seed)\n",
    "\n",
    "    def run(self, verbose=False):\n",
    "        current_sol = self.helper.generate_solution()\n",
    "        count = 0\n",
    "        temperature = self.c\n",
    "\n",
    "        for _ in range(self.L):\n",
    "            current_fit = self.helper.fitness(current_sol)\n",
    "            neighbours = self.helper.get_neighbours(current_sol)\n",
    "            neighbours_fitness = [(n, self.helper.fitness(n)) for n in neighbours]\n",
    "            neighbours_fitness.sort(key=self.helper.sorter, reverse=True)\n",
    "\n",
    "            for neighbour, neighbour_fit in neighbours_fitness:\n",
    "                delta = abs(current_fit - neighbour_fit)\n",
    "                if random.random() < math.exp(delta / temperature):\n",
    "                    current_sol = neighbour\n",
    "                    break\n",
    "\n",
    "            if current_fit >= self.helper.fitness(current_sol):\n",
    "                count += 1\n",
    "            else:\n",
    "                count = 0  # Reset if improvement\n",
    "\n",
    "            if count == self.stop:\n",
    "                break\n",
    "\n",
    "            if verbose:\n",
    "                print(f\"Current fitness: {self.helper.fitness(current_sol)}\")\n",
    "\n",
    "            temperature /= self.k\n",
    "\n",
    "        return self.helper.fitness(current_sol), current_sol"
   ]
  },
  {
   "cell_type": "code",
   "execution_count": null,
   "id": "2a3573ef",
   "metadata": {},
   "outputs": [
    {
     "name": "stdout",
     "output_type": "stream",
     "text": [
      "Current fitness: 16300\n",
      "Current fitness: 21300\n",
      "Current fitness: 26300\n",
      "Current fitness: 30700\n",
      "Current fitness: 35100\n",
      "Current fitness: 39200\n",
      "Current fitness: 42500\n",
      "Current fitness: 46000\n",
      "Current fitness: 49000\n",
      "Current fitness: 51800\n",
      "Current fitness: 54700\n",
      "Current fitness: 57400\n",
      "Current fitness: 59800\n",
      "Current fitness: 62400\n",
      "Current fitness: 64500\n",
      "Current fitness: 66600\n",
      "Current fitness: 68600\n",
      "Current fitness: 70600\n",
      "Current fitness: 71700\n",
      "Current fitness: 74200\n",
      "Current fitness: 75700\n",
      "Current fitness: 76000\n",
      "Current fitness: 76100\n",
      "Current fitness: 76400\n",
      "Current fitness: 76500\n",
      "Current fitness: 76500\n",
      "Current fitness: 76500\n",
      "Current fitness: 76500\n",
      "Current fitness: 76500\n",
      "Best fitness: 76500\n"
     ]
    }
   ],
   "source": [
    "from code.optimizers.SimulatedAnnealing import SimulatedAnnealingOptimizer\n",
    "\n",
    "# Run Simulated Annealing\n",
    "sa = SimulatedAnnealingOptimizer(helper)\n",
    "best_fit, best_sol = sa.run(verbose=True)\n",
    "print(\"Best fitness:\", best_fit)"
   ]
  }
 ],
 "metadata": {
  "kernelspec": {
   "display_name": "CIFO",
   "language": "python",
   "name": "python3"
  },
  "language_info": {
   "codemirror_mode": {
    "name": "ipython",
    "version": 3
   },
   "file_extension": ".py",
   "mimetype": "text/x-python",
   "name": "python",
   "nbconvert_exporter": "python",
   "pygments_lexer": "ipython3",
   "version": "3.11.11"
  }
 },
 "nbformat": 4,
 "nbformat_minor": 5
}
