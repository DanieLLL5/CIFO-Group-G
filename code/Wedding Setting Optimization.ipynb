{
 "cells": [
  {
   "cell_type": "markdown",
   "id": "bf722b24",
   "metadata": {},
   "source": [
    "# Wedding Seating Optimization"
   ]
  },
  {
   "cell_type": "markdown",
   "id": "6d1f5142",
   "metadata": {},
   "source": [
    "This work was conducted by Group G:\n",
    "\n",
    "- Daniel Caridade (20211588)\n",
    "- Gonçalo Teles (20211684)\n",
    "- Gonçalo Peres (20211625)\n",
    "- Guilherme Godinho (20211552)"
   ]
  },
  {
   "cell_type": "markdown",
   "id": "0ce0c68f",
   "metadata": {},
   "source": [
    "# 1. Library Importation"
   ]
  },
  {
   "cell_type": "markdown",
   "id": "bed8a594",
   "metadata": {},
   "source": [
    "__`Step 1`__ Import the required libraries."
   ]
  },
  {
   "cell_type": "code",
   "execution_count": null,
   "id": "e4de2bb5",
   "metadata": {},
   "outputs": [],
   "source": []
  }
 ],
 "metadata": {
  "language_info": {
   "name": "python"
  }
 },
 "nbformat": 4,
 "nbformat_minor": 5
}
