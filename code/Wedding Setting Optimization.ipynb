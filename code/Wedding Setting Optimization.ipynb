{
 "cells": [
  {
   "cell_type": "markdown",
   "id": "bf722b24",
   "metadata": {},
   "source": [
    "# Wedding Seating Optimization"
   ]
  },
  {
   "cell_type": "markdown",
   "id": "6d1f5142",
   "metadata": {},
   "source": [
    "This work was conducted by Group G:\n",
    "\n",
    "- Daniel Caridade (20211588)\n",
    "- Gonçalo Teles (20211684)\n",
    "- Gonçalo Peres (20211625)\n",
    "- Guilherme Godinho (20211552)"
   ]
  },
  {
   "cell_type": "markdown",
   "id": "0ce0c68f",
   "metadata": {},
   "source": [
    "# 1. Library Importation"
   ]
  },
  {
   "cell_type": "markdown",
   "id": "bed8a594",
   "metadata": {},
   "source": [
    "__`Step 1`__ Import the required libraries."
   ]
  },
  {
   "cell_type": "code",
   "execution_count": 6,
   "id": "e4de2bb5",
   "metadata": {},
   "outputs": [],
   "source": [
    "import pandas as pd\n",
    "import random\n",
    "import numpy as np\n",
    "import copy\n",
    "import math"
   ]
  },
  {
   "cell_type": "markdown",
   "id": "94b312be",
   "metadata": {},
   "source": [
    "# 2. Data Integration"
   ]
  },
  {
   "cell_type": "markdown",
   "id": "e0b2e919",
   "metadata": {},
   "source": [
    "__`Step 2`__ Importing the dataset into the file."
   ]
  },
  {
   "cell_type": "code",
   "execution_count": 7,
   "id": "d6bd9f86",
   "metadata": {},
   "outputs": [
    {
     "name": "stdout",
     "output_type": "stream",
     "text": [
      "       1     2     3     4    5    6    7    8    9    10  ...   55   56  57  \\\n",
      "idx                                                        ...                 \n",
      "1       0  5000     0     0  700  700    0    0    0    0  ...  100  100   0   \n",
      "2    5000     0   700   700    0    0  300  300  500  500  ...  100  100   0   \n",
      "3       0   700     0  2000    0    0    0    0  300  300  ...    0    0   0   \n",
      "4       0   700  2000     0    0    0  900  400  300  300  ...    0    0   0   \n",
      "5     700     0     0     0    0    0    0    0    0    0  ...    0    0   0   \n",
      "\n",
      "      58   59   60   61  62  63  64  \n",
      "idx                                  \n",
      "1      0  100  100  100   0   0   0  \n",
      "2    100    0    0    0   0   0   0  \n",
      "3      0    0    0    0   0   0   0  \n",
      "4      0    0    0    0   0   0   0  \n",
      "5      0    0    0    0   0   0   0  \n",
      "\n",
      "[5 rows x 64 columns]\n"
     ]
    }
   ],
   "source": [
    "# Add utils folder to Python path\n",
    "sys.path.append(str(Path().resolve() / 'utils'))\n",
    "\n",
    "from parser import load_relationship_matrix\n",
    "\n",
    "# Load the data\n",
    "relationships = load_relationship_matrix()\n",
    "print(relationships.head())"
   ]
  },
  {
   "cell_type": "markdown",
   "id": "5d556f3d",
   "metadata": {},
   "source": [
    "# 3. Helper functions"
   ]
  },
  {
   "cell_type": "markdown",
   "id": "c356b0dd",
   "metadata": {},
   "source": [
    "__`Step 3`__"
   ]
  },
  {
   "cell_type": "code",
   "execution_count": null,
   "id": "d60b3bfa",
   "metadata": {},
   "outputs": [],
   "source": [
    "from utils.helper import WeddingSeatingHelper  # adjust import path accordingly\n",
    "\n",
    "# Suppose relationships is loaded before, e.g. from your parser:\n",
    "helper = WeddingSeatingHelper(relationships)\n",
    "\n",
    "solution = helper.generate_solution()\n",
    "fitness_score = helper.fitness(solution)\n",
    "neighbors = helper.get_neighbours(solution)"
   ]
  },
  {
   "cell_type": "code",
   "execution_count": null,
   "id": "b39d722a",
   "metadata": {},
   "outputs": [],
   "source": [
    "from utils.helper import WeddingSeatingHelper\n",
    "from optimizers.hill_climbing import HillClimbingOptimizer\n",
    "\n",
    "helper = WeddingSeatingHelper(relationships)\n",
    "hc = HillClimbingOptimizer(helper)\n",
    "\n",
    "best_fit, best_sol = hc.run(verbose=True)\n",
    "print(\"Best fitness:\", best_fit)"
   ]
  },
  {
   "cell_type": "code",
   "execution_count": null,
   "id": "b94252a3",
   "metadata": {},
   "outputs": [],
   "source": [
    "results_hc = []\n",
    "\n",
    "for i in range(30):\n",
    "    best_fit, best_sol = hc.run()\n",
    "    results_hc.append(best_fit)\n",
    "    print(f\"Run {i+1}: Best fitness = {best_fit}\")\n",
    "\n",
    "# Optionally, summarize results_hc\n",
    "print(f\"\\nAverage fitness over 30 runs: {sum(results_hc)/len(results_hc):.2f}\")\n",
    "print(f\"Best fitness found: {max(results_hc)}\")\n",
    "print(f\"Worst fitness found: {min(results_hc)}\")"
   ]
  }
 ],
 "metadata": {
  "kernelspec": {
   "display_name": "CIFO",
   "language": "python",
   "name": "python3"
  },
  "language_info": {
   "codemirror_mode": {
    "name": "ipython",
    "version": 3
   },
   "file_extension": ".py",
   "mimetype": "text/x-python",
   "name": "python",
   "nbconvert_exporter": "python",
   "pygments_lexer": "ipython3",
   "version": "3.11.11"
  }
 },
 "nbformat": 4,
 "nbformat_minor": 5
}
