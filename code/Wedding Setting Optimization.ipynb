{
 "cells": [
  {
   "cell_type": "markdown",
   "id": "bf722b24",
   "metadata": {},
   "source": [
    "# Wedding Seating Optimization"
   ]
  },
  {
   "cell_type": "markdown",
   "id": "6d1f5142",
   "metadata": {},
   "source": [
    "This work was conducted by Group G:\n",
    "\n",
    "- Daniel Caridade (20211588)\n",
    "- Gonçalo Teles (20211684)\n",
    "- Gonçalo Peres (20211625)\n",
    "- Guilherme Godinho (20211552)"
   ]
  },
  {
   "cell_type": "markdown",
   "id": "0ce0c68f",
   "metadata": {},
   "source": [
    "# 1. Library Importation"
   ]
  },
  {
   "cell_type": "markdown",
   "id": "bed8a594",
   "metadata": {},
   "source": [
    "__`Step 1`__ Import the required libraries."
   ]
  },
  {
   "cell_type": "code",
   "execution_count": 1,
   "id": "e4de2bb5",
   "metadata": {},
   "outputs": [],
   "source": [
    "import pandas as pd\n",
    "import random\n",
    "import numpy as np\n",
    "import copy\n",
    "import math"
   ]
  },
  {
   "cell_type": "markdown",
   "id": "94b312be",
   "metadata": {},
   "source": [
    "# 2. Data Integration"
   ]
  },
  {
   "cell_type": "markdown",
   "id": "e0b2e919",
   "metadata": {},
   "source": [
    "__`Step 2`__ Importing the dataset into the file."
   ]
  },
  {
   "cell_type": "code",
   "execution_count": 2,
   "id": "d6bd9f86",
   "metadata": {},
   "outputs": [
    {
     "name": "stdout",
     "output_type": "stream",
     "text": [
      "       1     2     3     4    5    6    7    8    9    10  ...   55   56  57  \\\n",
      "idx                                                        ...                 \n",
      "1       0  5000     0     0  700  700    0    0    0    0  ...  100  100   0   \n",
      "2    5000     0   700   700    0    0  300  300  500  500  ...  100  100   0   \n",
      "3       0   700     0  2000    0    0    0    0  300  300  ...    0    0   0   \n",
      "4       0   700  2000     0    0    0  900  400  300  300  ...    0    0   0   \n",
      "5     700     0     0     0    0    0    0    0    0    0  ...    0    0   0   \n",
      "\n",
      "      58   59   60   61  62  63  64  \n",
      "idx                                  \n",
      "1      0  100  100  100   0   0   0  \n",
      "2    100    0    0    0   0   0   0  \n",
      "3      0    0    0    0   0   0   0  \n",
      "4      0    0    0    0   0   0   0  \n",
      "5      0    0    0    0   0   0   0  \n",
      "\n",
      "[5 rows x 64 columns]\n"
     ]
    }
   ],
   "source": [
    "from utils.parser import load_relationship_matrix\n",
    "\n",
    "# Load the data\n",
    "relationships = load_relationship_matrix()\n",
    "print(relationships.head())"
   ]
  },
  {
   "cell_type": "markdown",
   "id": "5d556f3d",
   "metadata": {},
   "source": [
    "# 3. Helper functions"
   ]
  },
  {
   "cell_type": "markdown",
   "id": "c356b0dd",
   "metadata": {},
   "source": [
    "__`Step 3`__"
   ]
  },
  {
   "cell_type": "code",
   "execution_count": 4,
   "id": "d60b3bfa",
   "metadata": {},
   "outputs": [],
   "source": [
    "from utils.WeddingSeatingHelper import WeddingSeatingHelper # adjust import path accordingly\n",
    "\n",
    "# Suppose relationships is loaded before, e.g. from your parser:\n",
    "helper = WeddingSeatingHelper(relationships)"
   ]
  },
  {
   "cell_type": "markdown",
   "id": "32bfe6b6",
   "metadata": {},
   "source": [
    "## Hill Climbing testing"
   ]
  },
  {
   "cell_type": "code",
   "execution_count": 5,
   "id": "b39d722a",
   "metadata": {},
   "outputs": [
    {
     "name": "stdout",
     "output_type": "stream",
     "text": [
      "Current fitness: 19900\n",
      "Current fitness: 24400\n",
      "Current fitness: 28700\n",
      "Current fitness: 32900\n",
      "Current fitness: 37000\n",
      "Current fitness: 40600\n",
      "Current fitness: 44000\n",
      "Current fitness: 47300\n",
      "Current fitness: 50300\n",
      "Current fitness: 53100\n",
      "Current fitness: 55800\n",
      "Current fitness: 58400\n",
      "Current fitness: 60800\n",
      "Current fitness: 62700\n",
      "Current fitness: 64300\n",
      "Current fitness: 65700\n",
      "Current fitness: 67700\n",
      "Current fitness: 68400\n",
      "Current fitness: 69000\n",
      "Current fitness: 69600\n",
      "Current fitness: 69800\n",
      "Current fitness: 69900\n",
      "Best fitness: 69900\n"
     ]
    }
   ],
   "source": [
    "from optimizers.HillClimbing import HillClimbingOptimizer\n",
    "\n",
    "helper = WeddingSeatingHelper(relationships)\n",
    "hc = HillClimbingOptimizer(helper)\n",
    "\n",
    "best_fit, best_sol = hc.run(verbose=True)\n",
    "print(\"Best fitness:\", best_fit)"
   ]
  },
  {
   "cell_type": "markdown",
   "id": "8d9b11ca",
   "metadata": {},
   "source": [
    "Testing for several iterations"
   ]
  },
  {
   "cell_type": "code",
   "execution_count": null,
   "id": "b94252a3",
   "metadata": {},
   "outputs": [],
   "source": [
    "results_hc = []\n",
    "\n",
    "for i in range(30):\n",
    "    hc = HillClimbingOptimizer(helper, seed=i)  # different seed for each run\n",
    "    best_fit, best_sol = hc.run()\n",
    "    results_hc.append(best_fit)\n",
    "    print(f\"Run {i+1}: Best fitness = {best_fit}\")\n",
    "\n",
    "print(f\"\\nAverage fitness: {sum(results_hc)/len(results_hc):.2f}\")\n",
    "print(f\"Best fitness: {max(results_hc)}\")\n",
    "print(f\"Worst fitness: {min(results_hc)}\")"
   ]
  },
  {
   "cell_type": "markdown",
   "id": "2aaaebce",
   "metadata": {},
   "source": [
    "## Simulated Annealing in classes "
   ]
  },
  {
   "cell_type": "code",
   "execution_count": 7,
   "id": "2a3573ef",
   "metadata": {},
   "outputs": [
    {
     "name": "stdout",
     "output_type": "stream",
     "text": [
      "Current fitness: 16300\n",
      "Current fitness: 21300\n",
      "Current fitness: 26300\n",
      "Current fitness: 30700\n",
      "Current fitness: 35100\n",
      "Current fitness: 39200\n",
      "Current fitness: 42500\n",
      "Current fitness: 46000\n",
      "Current fitness: 49000\n",
      "Current fitness: 51800\n",
      "Current fitness: 54700\n",
      "Current fitness: 57400\n",
      "Current fitness: 59800\n",
      "Current fitness: 62400\n",
      "Current fitness: 64500\n",
      "Current fitness: 66600\n",
      "Current fitness: 68600\n",
      "Current fitness: 70600\n",
      "Current fitness: 71700\n",
      "Current fitness: 74200\n",
      "Current fitness: 75700\n",
      "Current fitness: 76000\n",
      "Current fitness: 76100\n",
      "Current fitness: 76400\n",
      "Current fitness: 76500\n",
      "Current fitness: 76500\n",
      "Current fitness: 76500\n",
      "Current fitness: 76500\n",
      "Current fitness: 76500\n",
      "Best fitness: 76500\n"
     ]
    }
   ],
   "source": [
    "from optimizers.SimulatedAnnealing import SimulatedAnnealingOptimizer\n",
    "\n",
    "# Run Simulated Annealing\n",
    "sa = SimulatedAnnealingOptimizer(helper)\n",
    "best_fit, best_sol = sa.run(verbose=True)\n",
    "print(\"Best fitness:\", best_fit)"
   ]
  },
  {
   "cell_type": "markdown",
   "id": "f85721e1",
   "metadata": {},
   "source": [
    "Testing for several iterations"
   ]
  },
  {
   "cell_type": "code",
   "execution_count": null,
   "id": "12a00a7b",
   "metadata": {},
   "outputs": [],
   "source": [
    "results_sa = []\n",
    "\n",
    "# Create a fresh instance each time to reset random seed or internal state if needed\n",
    "for i in range(30):\n",
    "    sa = SimulatedAnnealingOptimizer(helper, seed=i) # different seed for each run\n",
    "    best_fit, best_sol = sa.run()\n",
    "    results_sa.append(best_fit)\n",
    "    print(f\"Run {i+1}: Best fitness = {best_fit}\")\n",
    "\n",
    "# Summarize results\n",
    "print(f\"\\nAverage fitness over 30 runs: {sum(results_sa)/len(results_sa):.2f}\")\n",
    "print(f\"Best fitness found: {max(results_sa)}\")\n",
    "print(f\"Worst fitness found: {min(results_sa)}\")"
   ]
  },
  {
   "cell_type": "markdown",
   "id": "8ce9ed43",
   "metadata": {},
   "source": [
    "## Genetic Algorithms"
   ]
  },
  {
   "cell_type": "code",
   "execution_count": null,
   "id": "7951e7dd",
   "metadata": {},
   "outputs": [],
   "source": [
    "from optimizers.genetic_algorithm.selection import selection\n",
    "\n",
    "# Generate a random population\n",
    "population = [helper.generate_solution() for _ in range(50)]  # pop size = 50\n",
    "\n",
    "# Try battle selection\n",
    "selected = selection(population, pop_size=50, helper=helper, selection=\"battle\", elitism=True)\n",
    "\n",
    "# Try double roulette\n",
    "selected_roulette = selection(population, pop_size=50, helper=helper, selection=\"double_roullette\")"
   ]
  },
  {
   "cell_type": "code",
   "execution_count": null,
   "id": "a993171d",
   "metadata": {},
   "outputs": [],
   "source": [
    "from optimizers.genetic_algorithm.mutation import mutation\n",
    "\n",
    "# Create a sample individual: 8 tables with 8 guests each\n",
    "sample_individual = [list(range(i*8 + 1, i*8 + 9)) for i in range(8)]\n",
    "\n",
    "# Apply mutation\n",
    "mutated = mutation(sample_individual.copy(), swap=True, table_flip=False, relationship_augmenter=False)\n",
    "display(mutated)"
   ]
  },
  {
   "cell_type": "code",
   "execution_count": null,
   "id": "33b53aa2",
   "metadata": {},
   "outputs": [],
   "source": [
    "# Future code for crossover\n"
   ]
  },
  {
   "cell_type": "code",
   "execution_count": null,
   "id": "892aa0e6",
   "metadata": {},
   "outputs": [],
   "source": [
    "from optimizers.genetic_algorithm.genetic_algorithm import GeneticAlgorithm\n",
    "\n",
    "ga = GeneticAlgorithm(pop_size=50, num_gen=20, selection_method=\"battle\", elitism=True)\n",
    "best_score, best_solution = ga.optimize()"
   ]
  },
  {
   "cell_type": "markdown",
   "id": "839fd25f",
   "metadata": {},
   "source": [
    "Testing for several times"
   ]
  },
  {
   "cell_type": "code",
   "execution_count": null,
   "id": "e516b043",
   "metadata": {},
   "outputs": [],
   "source": [
    "results_ga = []\n",
    "\n",
    "for i in range(30):\n",
    "    random.seed(i)\n",
    "    np.random.seed(i)\n",
    "    \n",
    "    ga = GeneticAlgorithm(pop_size=50, num_gen=20, selection_method=\"battle\", elitism=True)\n",
    "    best_fit, best_sol = ga.optimize(verbose=False)  # disable verbose logging\n",
    "    \n",
    "    results_ga.append(best_fit)\n",
    "    print(f\"GA Run {i+1}: Best fitness = {best_fit:.2f}\")\n",
    "\n",
    "# Summarize results\n",
    "print(f\"\\nGA Average fitness over 30 runs: {np.mean(results_ga):.2f}\")\n",
    "print(f\"GA Best fitness found: {np.max(results_ga):.2f}\")\n",
    "print(f\"GA Worst fitness found: {np.min(results_ga):.2f}\")"
   ]
  }
 ],
 "metadata": {
  "kernelspec": {
   "display_name": "CIFO",
   "language": "python",
   "name": "python3"
  },
  "language_info": {
   "codemirror_mode": {
    "name": "ipython",
    "version": 3
   },
   "file_extension": ".py",
   "mimetype": "text/x-python",
   "name": "python",
   "nbconvert_exporter": "python",
   "pygments_lexer": "ipython3",
   "version": "3.11.11"
  }
 },
 "nbformat": 4,
 "nbformat_minor": 5
}
